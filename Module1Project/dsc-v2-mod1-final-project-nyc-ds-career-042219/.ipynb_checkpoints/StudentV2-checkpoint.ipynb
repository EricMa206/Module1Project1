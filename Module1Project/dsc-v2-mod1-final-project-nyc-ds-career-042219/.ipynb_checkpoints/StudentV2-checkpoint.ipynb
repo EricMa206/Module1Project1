{
 "cells": [
  {
   "cell_type": "markdown",
   "metadata": {},
   "source": [
    "# Kings County Regression Version 2\n",
    "\n",
    "--- So after many regression models I've returned to the drawing board to reinclude more variables that I initially eliminated.\n",
    "\n",
    "* Eric Ma\n",
    "* Full Time Student\n",
    "* Due: May 8, 2019 \n",
    "* Instructor name: Fangfang Lee\n",
    "* Blog post URL: *tbd"
   ]
  },
  {
   "cell_type": "code",
   "execution_count": null,
   "metadata": {},
   "outputs": [],
   "source": [
    "import pandas as pd\n",
    "import numpy as np\n",
    "import seaborn as sns\n",
    "import matplotlib.pyplot as plt\n",
    "%matplotlib inline"
   ]
  }
 ],
 "metadata": {
  "kernelspec": {
   "display_name": "Python 3",
   "language": "python",
   "name": "python3"
  },
  "language_info": {
   "codemirror_mode": {
    "name": "ipython",
    "version": 3
   },
   "file_extension": ".py",
   "mimetype": "text/x-python",
   "name": "python",
   "nbconvert_exporter": "python",
   "pygments_lexer": "ipython3",
   "version": "3.6.6"
  }
 },
 "nbformat": 4,
 "nbformat_minor": 2
}
